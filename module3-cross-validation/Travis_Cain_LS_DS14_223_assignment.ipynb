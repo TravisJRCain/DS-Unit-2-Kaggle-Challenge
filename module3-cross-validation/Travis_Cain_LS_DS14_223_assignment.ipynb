{
  "nbformat": 4,
  "nbformat_minor": 0,
  "metadata": {
    "kernelspec": {
      "display_name": "Python 3",
      "language": "python",
      "name": "python3"
    },
    "language_info": {
      "codemirror_mode": {
        "name": "ipython",
        "version": 3
      },
      "file_extension": ".py",
      "mimetype": "text/x-python",
      "name": "python",
      "nbconvert_exporter": "python",
      "pygments_lexer": "ipython3",
      "version": "3.7.6"
    },
    "colab": {
      "name": "Travis_Cain_LS_DS14_223_assignment.ipynb",
      "provenance": [],
      "machine_shape": "hm",
      "include_colab_link": true
    }
  },
  "cells": [
    {
      "cell_type": "markdown",
      "metadata": {
        "id": "view-in-github",
        "colab_type": "text"
      },
      "source": [
        "<a href=\"https://colab.research.google.com/github/TravisJRCain/DS-Unit-2-Kaggle-Challenge/blob/master/module3-cross-validation/Travis_Cain_LS_DS14_223_assignment.ipynb\" target=\"_parent\"><img src=\"https://colab.research.google.com/assets/colab-badge.svg\" alt=\"Open In Colab\"/></a>"
      ]
    },
    {
      "cell_type": "markdown",
      "metadata": {
        "id": "u8ozXa9VYMsy",
        "colab_type": "text"
      },
      "source": [
        "Lambda School Data Science\n",
        "\n",
        "*Unit 2, Sprint 2, Module 3*\n",
        "\n",
        "---"
      ]
    },
    {
      "cell_type": "markdown",
      "metadata": {
        "id": "SfXPVC2eYMs0",
        "colab_type": "text"
      },
      "source": [
        "# Cross-Validation\n",
        "\n",
        "\n",
        "## Assignment\n",
        "- [ ] [Review requirements for your portfolio project](https://lambdaschool.github.io/ds/unit2), then submit your dataset.\n",
        "- [ ] Continue to participate in our Kaggle challenge. \n",
        "- [ ] Use scikit-learn for hyperparameter optimization with RandomizedSearchCV.\n",
        "- [ ] Submit your predictions to our Kaggle competition. (Go to our Kaggle InClass competition webpage. Use the blue **Submit Predictions** button to upload your CSV file. Or you can use the Kaggle API to submit your predictions.)\n",
        "- [ ] Commit your notebook to your fork of the GitHub repo.\n",
        "\n",
        "\n",
        "You won't be able to just copy from the lesson notebook to this assignment.\n",
        "\n",
        "- Because the lesson was ***regression***, but the assignment is ***classification.***\n",
        "- Because the lesson used [TargetEncoder](https://contrib.scikit-learn.org/categorical-encoding/targetencoder.html), which doesn't work as-is for _multi-class_ classification.\n",
        "\n",
        "So you will have to adapt the example, which is good real-world practice.\n",
        "\n",
        "1. Use a model for classification, such as [RandomForestClassifier](https://scikit-learn.org/stable/modules/generated/sklearn.ensemble.RandomForestClassifier.html)\n",
        "2. Use hyperparameters that match the classifier, such as `randomforestclassifier__ ...`\n",
        "3. Use a metric for classification, such as [`scoring='accuracy'`](https://scikit-learn.org/stable/modules/model_evaluation.html#common-cases-predefined-values)\n",
        "4. If you’re doing a multi-class classification problem — such as whether a waterpump is functional, functional needs repair, or nonfunctional — then use a categorical encoding that works for multi-class classification, such as [OrdinalEncoder](https://contrib.scikit-learn.org/categorical-encoding/ordinal.html) (not [TargetEncoder](https://contrib.scikit-learn.org/categorical-encoding/targetencoder.html))\n",
        "\n",
        "\n",
        "\n",
        "## Stretch Goals\n",
        "\n",
        "### Reading\n",
        "- Jake VanderPlas, [Python Data Science Handbook, Chapter 5.3](https://jakevdp.github.io/PythonDataScienceHandbook/05.03-hyperparameters-and-model-validation.html), Hyperparameters and Model Validation\n",
        "- Jake VanderPlas, [Statistics for Hackers](https://speakerdeck.com/jakevdp/statistics-for-hackers?slide=107)\n",
        "- Ron Zacharski, [A Programmer's Guide to Data Mining, Chapter 5](http://guidetodatamining.com/chapter5/), 10-fold cross validation\n",
        "- Sebastian Raschka, [A Basic Pipeline and Grid Search Setup](https://github.com/rasbt/python-machine-learning-book/blob/master/code/bonus/svm_iris_pipeline_and_gridsearch.ipynb)\n",
        "- Peter Worcester, [A Comparison of Grid Search and Randomized Search Using Scikit Learn](https://blog.usejournal.com/a-comparison-of-grid-search-and-randomized-search-using-scikit-learn-29823179bc85)\n",
        "\n",
        "### Doing\n",
        "- Add your own stretch goals!\n",
        "- Try other [categorical encodings](https://contrib.scikit-learn.org/categorical-encoding/). See the previous assignment notebook for details.\n",
        "- In additon to `RandomizedSearchCV`, scikit-learn has [`GridSearchCV`](https://scikit-learn.org/stable/modules/generated/sklearn.model_selection.GridSearchCV.html). Another library called scikit-optimize has [`BayesSearchCV`](https://scikit-optimize.github.io/notebooks/sklearn-gridsearchcv-replacement.html). Experiment with these alternatives.\n",
        "- _[Introduction to Machine Learning with Python](http://shop.oreilly.com/product/0636920030515.do)_ discusses options for \"Grid-Searching Which Model To Use\" in Chapter 6:\n",
        "\n",
        "> You can even go further in combining GridSearchCV and Pipeline: it is also possible to search over the actual steps being performed in the pipeline (say whether to use StandardScaler or MinMaxScaler). This leads to an even bigger search space and should be considered carefully. Trying all possible solutions is usually not a viable machine learning strategy. However, here is an example comparing a RandomForestClassifier and an SVC ...\n",
        "\n",
        "The example is shown in [the accompanying notebook](https://github.com/amueller/introduction_to_ml_with_python/blob/master/06-algorithm-chains-and-pipelines.ipynb), code cells 35-37. Could you apply this concept to your own pipelines?\n"
      ]
    },
    {
      "cell_type": "markdown",
      "metadata": {
        "id": "Ny_-mPkIYMs2",
        "colab_type": "text"
      },
      "source": [
        "### BONUS: Stacking!\n",
        "\n",
        "Here's some code you can use to \"stack\" multiple submissions, which is another form of ensembling:\n",
        "\n",
        "```python\n",
        "import pandas as pd\n",
        "\n",
        "# Filenames of your submissions you want to ensemble\n",
        "files = ['submission-01.csv', 'submission-02.csv', 'submission-03.csv']\n",
        "\n",
        "target = 'status_group'\n",
        "submissions = (pd.read_csv(file)[[target]] for file in files)\n",
        "ensemble = pd.concat(submissions, axis='columns')\n",
        "majority_vote = ensemble.mode(axis='columns')[0]\n",
        "\n",
        "sample_submission = pd.read_csv('sample_submission.csv')\n",
        "submission = sample_submission.copy()\n",
        "submission[target] = majority_vote\n",
        "submission.to_csv('my-ultimate-ensemble-submission.csv', index=False)\n",
        "```"
      ]
    },
    {
      "cell_type": "code",
      "metadata": {
        "id": "3mVkTJitYMs4",
        "colab_type": "code",
        "colab": {}
      },
      "source": [
        "%%capture\n",
        "import sys\n",
        "\n",
        "# If you're on Colab:\n",
        "if 'google.colab' in sys.modules:\n",
        "    DATA_PATH = 'https://raw.githubusercontent.com/LambdaSchool/DS-Unit-2-Kaggle-Challenge/master/data/'\n",
        "    !pip install category_encoders==2.*\n",
        "\n",
        "# If you're working locally:\n",
        "else:\n",
        "    DATA_PATH = '../data/'"
      ],
      "execution_count": 0,
      "outputs": []
    },
    {
      "cell_type": "code",
      "metadata": {
        "id": "2F_3b9XLYMtC",
        "colab_type": "code",
        "colab": {}
      },
      "source": [
        "import pandas as pd\n",
        "\n",
        "# Merge train_features.csv & train_labels.csv\n",
        "train = pd.merge(pd.read_csv(DATA_PATH+'waterpumps/train_features.csv'), \n",
        "                 pd.read_csv(DATA_PATH+'waterpumps/train_labels.csv'))\n",
        "\n",
        "# Read test_features.csv & sample_submission.csv\n",
        "test = pd.read_csv(DATA_PATH+'waterpumps/test_features.csv')\n",
        "sample_submission = pd.read_csv(DATA_PATH+'waterpumps/sample_submission.csv')"
      ],
      "execution_count": 0,
      "outputs": []
    },
    {
      "cell_type": "code",
      "metadata": {
        "id": "ybMMTCfTa2Jj",
        "colab_type": "code",
        "colab": {}
      },
      "source": [
        "# Add libraries\n",
        "\n",
        "import category_encoders as ce\n",
        "import numpy as np\n",
        "from sklearn.feature_selection import f_regression, SelectKBest\n",
        "from sklearn.impute import SimpleImputer\n",
        "from sklearn.linear_model import Ridge\n",
        "from sklearn.model_selection import cross_val_score\n",
        "from sklearn.pipeline import make_pipeline\n",
        "from sklearn.preprocessing import StandardScaler"
      ],
      "execution_count": 0,
      "outputs": []
    },
    {
      "cell_type": "code",
      "metadata": {
        "id": "HXAqTdPjc5Cm",
        "colab_type": "code",
        "colab": {
          "base_uri": "https://localhost:8080/",
          "height": 34
        },
        "outputId": "14572643-e0aa-4d7f-e1d8-93bca3707889"
      },
      "source": [
        "train.shape, test.shape"
      ],
      "execution_count": 5,
      "outputs": [
        {
          "output_type": "execute_result",
          "data": {
            "text/plain": [
              "((59400, 41), (14358, 40))"
            ]
          },
          "metadata": {
            "tags": []
          },
          "execution_count": 5
        }
      ]
    },
    {
      "cell_type": "code",
      "metadata": {
        "id": "xwOeX1y8c-5f",
        "colab_type": "code",
        "colab": {}
      },
      "source": [
        "from sklearn.model_selection import train_test_split\n",
        "\n",
        "train, val = train_test_split(train, train_size=0.80, test_size=0.20,\n",
        "                              stratify=train['status_group'], random_state=42)"
      ],
      "execution_count": 0,
      "outputs": []
    },
    {
      "cell_type": "code",
      "metadata": {
        "id": "ueq9cgIudHnJ",
        "colab_type": "code",
        "colab": {}
      },
      "source": [
        "# From Lecture\n",
        "import numpy as np\n",
        "\n",
        "\n",
        "def wrangle(X):\n",
        "    \"\"\"Wrangle train, validate, and test sets in the same way\"\"\"\n",
        "    \n",
        "    # Prevent SettingWithCopyWarning\n",
        "    X = X.copy()\n",
        "    \n",
        "    # About 3% of the time, latitude has small values near zero,\n",
        "    # outside Tanzania, so we'll treat these values like zero.\n",
        "    X['latitude'] = X['latitude'].replace(-2e-08, 0)\n",
        "    \n",
        "    # When columns have zeros and shouldn't, they are like null values.\n",
        "    # So we will replace the zeros with nulls, and impute missing values later.\n",
        "    # Also create a \"missing indicator\" column, because the fact that\n",
        "    # values are missing may be a predictive signal.\n",
        "    cols_with_zeros = ['longitude', 'latitude', 'construction_year', \n",
        "                       'gps_height', 'population']\n",
        "    for col in cols_with_zeros:\n",
        "        X[col] = X[col].replace(0, np.nan)\n",
        "        X[col+'_MISSING'] = X[col].isnull()\n",
        "            \n",
        "    # Drop duplicate columns\n",
        "    duplicates = ['quantity_group', 'payment_type']\n",
        "    X = X.drop(columns=duplicates)\n",
        "    \n",
        "    # Drop recorded_by (never varies) and id (always varies, random)\n",
        "    unusable_variance = ['recorded_by', 'id']\n",
        "    X = X.drop(columns=unusable_variance)\n",
        "    \n",
        "    # return the wrangled dataframe\n",
        "    return X\n",
        "\n",
        "train = wrangle(train)\n",
        "val = wrangle(val)\n",
        "test = wrangle(test)"
      ],
      "execution_count": 0,
      "outputs": []
    },
    {
      "cell_type": "code",
      "metadata": {
        "id": "4BmgNu6DaRqq",
        "colab_type": "code",
        "colab": {
          "base_uri": "https://localhost:8080/",
          "height": 603
        },
        "outputId": "08f4c479-15a7-4d3f-950a-ddc1bf8165f8"
      },
      "source": [
        "# From previous assignment\n",
        "\n",
        "# status_group column is the target\n",
        "target = 'status_group'\n",
        "\n",
        "# Get a dataframe with all train columns except the target\n",
        "train_features = train.drop(columns=[target])\n",
        "\n",
        "# Get a list of the numeric features\n",
        "numeric_features = train_features.select_dtypes(exclude='number').columns.tolist()\n",
        "\n",
        "# Get a series with the cardinality of the nonnumeric features\n",
        "cardinality = train_features.select_dtypes(exclude='number').nunique()\n",
        "\n",
        "# Get a list of all categorical features with cardinality <= 50\n",
        "categorical_features = cardinality[cardinality <= 50].index.tolist()\n",
        "\n",
        "# Combine the lists\n",
        "features = numeric_features + categorical_features\n",
        "cardinality"
      ],
      "execution_count": 8,
      "outputs": [
        {
          "output_type": "execute_result",
          "data": {
            "text/plain": [
              "date_recorded                  349\n",
              "funder                        1716\n",
              "installer                     1929\n",
              "wpt_name                     30661\n",
              "basin                            9\n",
              "subvillage                   17231\n",
              "region                          21\n",
              "lga                            124\n",
              "ward                          2082\n",
              "public_meeting                   2\n",
              "scheme_management               12\n",
              "scheme_name                   2563\n",
              "permit                           2\n",
              "extraction_type                 18\n",
              "extraction_type_group           13\n",
              "extraction_type_class            7\n",
              "management                      12\n",
              "management_group                 5\n",
              "payment                          7\n",
              "water_quality                    8\n",
              "quality_group                    6\n",
              "quantity                         5\n",
              "source                          10\n",
              "source_type                      7\n",
              "source_class                     3\n",
              "waterpoint_type                  7\n",
              "waterpoint_type_group            6\n",
              "longitude_MISSING                2\n",
              "latitude_MISSING                 2\n",
              "construction_year_MISSING        2\n",
              "gps_height_MISSING               2\n",
              "population_MISSING               2\n",
              "dtype: int64"
            ]
          },
          "metadata": {
            "tags": []
          },
          "execution_count": 8
        }
      ]
    },
    {
      "cell_type": "code",
      "metadata": {
        "id": "2tvLFtRlcUqV",
        "colab_type": "code",
        "colab": {}
      },
      "source": [
        "# Arrange data into X features matrix and y target vectors\n",
        "X_train = train[features]\n",
        "y_train = train[target]\n",
        "X_val = val[features]\n",
        "y_val = val[target]\n",
        "X_test = test[features]"
      ],
      "execution_count": 0,
      "outputs": []
    },
    {
      "cell_type": "code",
      "metadata": {
        "id": "mUjfI3WsdO1n",
        "colab_type": "code",
        "colab": {}
      },
      "source": [
        "X_train = train.drop(columns=target)\n",
        "y_train = train[target]\n",
        "X_val = val.drop(columns=target)\n",
        "y_val = val[target]\n",
        "X_test = test"
      ],
      "execution_count": 0,
      "outputs": []
    },
    {
      "cell_type": "code",
      "metadata": {
        "id": "RKjOqoB8BvU-",
        "colab_type": "code",
        "colab": {
          "base_uri": "https://localhost:8080/",
          "height": 70
        },
        "outputId": "77cea96c-bf0f-4fcd-fc55-70bb91d9d387"
      },
      "source": [
        "# From Jake\n",
        "\n",
        "%%time\n",
        "import category_encoders as ce\n",
        "from sklearn.ensemble import RandomForestClassifier\n",
        "from sklearn.impute import SimpleImputer\n",
        "from sklearn.pipeline import make_pipeline\n",
        "\n",
        "\n",
        "pipeline = make_pipeline(\n",
        "    ce.OrdinalEncoder(),\n",
        "    SimpleImputer(strategy='most_frequent'),\n",
        "    RandomForestClassifier(bootstrap=True, class_weight=None, criterion='gini',\n",
        "                       max_depth=22, max_features='auto', max_leaf_nodes=None,\n",
        "                       min_impurity_decrease=0.0, min_impurity_split=None,\n",
        "                       min_samples_leaf=1, min_samples_split=5,\n",
        "                       min_weight_fraction_leaf=0.0, n_estimators=135,\n",
        "                       n_jobs=-1, oob_score=True, random_state=42, verbose=0,\n",
        "                       warm_start=False)\n",
        ")\n",
        "\n",
        "pipeline.fit(X_train, y_train)\n",
        "print ('Validation Accuracy', pipeline.score(X_val, y_val))"
      ],
      "execution_count": 12,
      "outputs": [
        {
          "output_type": "stream",
          "text": [
            "Validation Accuracy 0.8128787878787879\n",
            "CPU times: user 24.7 s, sys: 195 ms, total: 24.9 s\n",
            "Wall time: 8.83 s\n"
          ],
          "name": "stdout"
        }
      ]
    },
    {
      "cell_type": "code",
      "metadata": {
        "id": "gJ1pNoMlbKdd",
        "colab_type": "code",
        "colab": {
          "base_uri": "https://localhost:8080/",
          "height": 1000
        },
        "outputId": "fd1dfa99-f3f1-4760-e968-1fab742bf069"
      },
      "source": [
        "from scipy.stats import randint, uniform\n",
        "from sklearn.model_selection import GridSearchCV, RandomizedSearchCV\n",
        "\n",
        "\n",
        "features = train.columns.drop(target)\n",
        "X_train = train[features]\n",
        "y_train = train[target]\n",
        "\n",
        "pipeline = make_pipeline(\n",
        "    ce.OrdinalEncoder(),\n",
        "    SimpleImputer(), \n",
        "    RandomForestClassifier(n_jobs=-1, random_state=12, max_features='auto', \n",
        "                             oob_score=True, criterion='gini')\n",
        ")\n",
        "\n",
        "param_distributions = {\n",
        "    'simpleimputer__strategy': ['mean', 'median', 'most_frequent'], \n",
        "    'randomforestclassifier__n_estimators': [130, 135, 140],\n",
        "    'randomforestclassifier__max_depth': [22, 23, 25, 26], \n",
        "    'randomforestclassifier__min_samples_split': [5, 6], \n",
        "}\n",
        "\n",
        "# If you're on Colab, decrease n_iter & cv parameters\n",
        "search = RandomizedSearchCV(\n",
        "    pipeline, \n",
        "    param_distributions=param_distributions, \n",
        "    n_iter=24, \n",
        "    cv=5, \n",
        "    scoring='accuracy', \n",
        "    verbose=50, \n",
        "    return_train_score=True, \n",
        "    n_jobs=-1,\n",
        "    random_state=42\n",
        ")\n",
        "\n",
        "search.fit(X_train, y_train);"
      ],
      "execution_count": 14,
      "outputs": [
        {
          "output_type": "stream",
          "text": [
            "Fitting 5 folds for each of 24 candidates, totalling 120 fits\n",
            "[Parallel(n_jobs=-1)]: Using backend LokyBackend with 4 concurrent workers.\n",
            "[Parallel(n_jobs=-1)]: Done   1 tasks      | elapsed:   25.8s\n",
            "[Parallel(n_jobs=-1)]: Done   2 tasks      | elapsed:   25.9s\n",
            "[Parallel(n_jobs=-1)]: Done   3 tasks      | elapsed:   26.1s\n",
            "[Parallel(n_jobs=-1)]: Done   4 tasks      | elapsed:   26.5s\n",
            "[Parallel(n_jobs=-1)]: Done   5 tasks      | elapsed:   50.3s\n",
            "[Parallel(n_jobs=-1)]: Done   6 tasks      | elapsed:   52.5s\n",
            "[Parallel(n_jobs=-1)]: Done   7 tasks      | elapsed:   53.1s\n",
            "[Parallel(n_jobs=-1)]: Done   8 tasks      | elapsed:   53.7s\n",
            "[Parallel(n_jobs=-1)]: Done   9 tasks      | elapsed:  1.3min\n",
            "[Parallel(n_jobs=-1)]: Done  10 tasks      | elapsed:  1.3min\n",
            "[Parallel(n_jobs=-1)]: Done  11 tasks      | elapsed:  1.3min\n",
            "[Parallel(n_jobs=-1)]: Done  12 tasks      | elapsed:  1.3min\n",
            "[Parallel(n_jobs=-1)]: Done  13 tasks      | elapsed:  1.7min\n",
            "[Parallel(n_jobs=-1)]: Done  14 tasks      | elapsed:  1.7min\n",
            "[Parallel(n_jobs=-1)]: Done  15 tasks      | elapsed:  1.7min\n",
            "[Parallel(n_jobs=-1)]: Done  16 tasks      | elapsed:  1.7min\n",
            "[Parallel(n_jobs=-1)]: Done  17 tasks      | elapsed:  2.1min\n",
            "[Parallel(n_jobs=-1)]: Done  18 tasks      | elapsed:  2.1min\n",
            "[Parallel(n_jobs=-1)]: Done  19 tasks      | elapsed:  2.1min\n",
            "[Parallel(n_jobs=-1)]: Done  20 tasks      | elapsed:  2.1min\n",
            "[Parallel(n_jobs=-1)]: Done  21 tasks      | elapsed:  2.4min\n",
            "[Parallel(n_jobs=-1)]: Done  22 tasks      | elapsed:  2.5min\n",
            "[Parallel(n_jobs=-1)]: Done  23 tasks      | elapsed:  2.5min\n",
            "[Parallel(n_jobs=-1)]: Done  24 tasks      | elapsed:  2.5min\n",
            "[Parallel(n_jobs=-1)]: Done  25 tasks      | elapsed:  2.8min\n",
            "[Parallel(n_jobs=-1)]: Done  26 tasks      | elapsed:  2.9min\n",
            "[Parallel(n_jobs=-1)]: Done  27 tasks      | elapsed:  2.9min\n",
            "[Parallel(n_jobs=-1)]: Done  28 tasks      | elapsed:  2.9min\n",
            "[Parallel(n_jobs=-1)]: Done  29 tasks      | elapsed:  3.3min\n",
            "[Parallel(n_jobs=-1)]: Done  30 tasks      | elapsed:  3.3min\n",
            "[Parallel(n_jobs=-1)]: Done  31 tasks      | elapsed:  3.3min\n",
            "[Parallel(n_jobs=-1)]: Done  32 tasks      | elapsed:  3.3min\n",
            "[Parallel(n_jobs=-1)]: Done  33 tasks      | elapsed:  3.7min\n",
            "[Parallel(n_jobs=-1)]: Done  34 tasks      | elapsed:  3.7min\n",
            "[Parallel(n_jobs=-1)]: Done  35 tasks      | elapsed:  3.7min\n",
            "[Parallel(n_jobs=-1)]: Done  36 tasks      | elapsed:  3.7min\n",
            "[Parallel(n_jobs=-1)]: Done  37 tasks      | elapsed:  4.1min\n",
            "[Parallel(n_jobs=-1)]: Done  38 tasks      | elapsed:  4.1min\n",
            "[Parallel(n_jobs=-1)]: Done  39 tasks      | elapsed:  4.1min\n",
            "[Parallel(n_jobs=-1)]: Done  40 tasks      | elapsed:  4.1min\n",
            "[Parallel(n_jobs=-1)]: Done  41 tasks      | elapsed:  4.5min\n",
            "[Parallel(n_jobs=-1)]: Done  42 tasks      | elapsed:  4.5min\n",
            "[Parallel(n_jobs=-1)]: Done  43 tasks      | elapsed:  4.5min\n",
            "[Parallel(n_jobs=-1)]: Done  44 tasks      | elapsed:  4.5min\n",
            "[Parallel(n_jobs=-1)]: Done  45 tasks      | elapsed:  4.9min\n",
            "[Parallel(n_jobs=-1)]: Done  46 tasks      | elapsed:  4.9min\n",
            "[Parallel(n_jobs=-1)]: Done  47 tasks      | elapsed:  4.9min\n",
            "[Parallel(n_jobs=-1)]: Done  48 tasks      | elapsed:  4.9min\n",
            "[Parallel(n_jobs=-1)]: Done  49 tasks      | elapsed:  5.3min\n",
            "[Parallel(n_jobs=-1)]: Done  50 tasks      | elapsed:  5.3min\n",
            "[Parallel(n_jobs=-1)]: Done  51 tasks      | elapsed:  5.4min\n",
            "[Parallel(n_jobs=-1)]: Done  52 tasks      | elapsed:  5.4min\n",
            "[Parallel(n_jobs=-1)]: Done  53 tasks      | elapsed:  5.7min\n",
            "[Parallel(n_jobs=-1)]: Done  54 tasks      | elapsed:  5.7min\n",
            "[Parallel(n_jobs=-1)]: Done  55 tasks      | elapsed:  5.8min\n",
            "[Parallel(n_jobs=-1)]: Done  56 tasks      | elapsed:  5.8min\n",
            "[Parallel(n_jobs=-1)]: Done  57 tasks      | elapsed:  6.1min\n",
            "[Parallel(n_jobs=-1)]: Done  58 tasks      | elapsed:  6.1min\n",
            "[Parallel(n_jobs=-1)]: Done  59 tasks      | elapsed:  6.2min\n",
            "[Parallel(n_jobs=-1)]: Done  60 tasks      | elapsed:  6.2min\n",
            "[Parallel(n_jobs=-1)]: Done  61 tasks      | elapsed:  6.5min\n",
            "[Parallel(n_jobs=-1)]: Done  62 tasks      | elapsed:  6.5min\n",
            "[Parallel(n_jobs=-1)]: Done  63 tasks      | elapsed:  6.6min\n",
            "[Parallel(n_jobs=-1)]: Done  64 tasks      | elapsed:  6.6min\n",
            "[Parallel(n_jobs=-1)]: Done  65 tasks      | elapsed:  6.8min\n",
            "[Parallel(n_jobs=-1)]: Done  66 tasks      | elapsed:  6.9min\n",
            "[Parallel(n_jobs=-1)]: Done  67 tasks      | elapsed:  6.9min\n",
            "[Parallel(n_jobs=-1)]: Done  68 tasks      | elapsed:  7.0min\n",
            "[Parallel(n_jobs=-1)]: Done  69 tasks      | elapsed:  7.2min\n",
            "[Parallel(n_jobs=-1)]: Done  70 tasks      | elapsed:  7.3min\n",
            "[Parallel(n_jobs=-1)]: Done  71 tasks      | elapsed:  7.4min\n",
            "[Parallel(n_jobs=-1)]: Done  72 tasks      | elapsed:  7.4min\n",
            "[Parallel(n_jobs=-1)]: Done  73 tasks      | elapsed:  7.6min\n",
            "[Parallel(n_jobs=-1)]: Done  74 tasks      | elapsed:  7.7min\n",
            "[Parallel(n_jobs=-1)]: Done  75 tasks      | elapsed:  7.8min\n",
            "[Parallel(n_jobs=-1)]: Done  76 tasks      | elapsed:  7.8min\n",
            "[Parallel(n_jobs=-1)]: Done  77 tasks      | elapsed:  8.0min\n",
            "[Parallel(n_jobs=-1)]: Done  78 tasks      | elapsed:  8.1min\n",
            "[Parallel(n_jobs=-1)]: Done  79 tasks      | elapsed:  8.2min\n",
            "[Parallel(n_jobs=-1)]: Done  80 tasks      | elapsed:  8.2min\n",
            "[Parallel(n_jobs=-1)]: Done  81 tasks      | elapsed:  8.5min\n",
            "[Parallel(n_jobs=-1)]: Done  82 tasks      | elapsed:  8.5min\n",
            "[Parallel(n_jobs=-1)]: Done  83 tasks      | elapsed:  8.6min\n",
            "[Parallel(n_jobs=-1)]: Done  84 tasks      | elapsed:  8.6min\n",
            "[Parallel(n_jobs=-1)]: Done  85 tasks      | elapsed:  8.9min\n",
            "[Parallel(n_jobs=-1)]: Done  86 tasks      | elapsed:  8.9min\n",
            "[Parallel(n_jobs=-1)]: Done  87 tasks      | elapsed:  9.0min\n",
            "[Parallel(n_jobs=-1)]: Done  88 tasks      | elapsed:  9.0min\n",
            "[Parallel(n_jobs=-1)]: Done  89 tasks      | elapsed:  9.3min\n",
            "[Parallel(n_jobs=-1)]: Done  90 tasks      | elapsed:  9.3min\n",
            "[Parallel(n_jobs=-1)]: Done  91 tasks      | elapsed:  9.4min\n",
            "[Parallel(n_jobs=-1)]: Done  92 tasks      | elapsed:  9.5min\n",
            "[Parallel(n_jobs=-1)]: Done  93 tasks      | elapsed:  9.7min\n",
            "[Parallel(n_jobs=-1)]: Done  94 tasks      | elapsed:  9.7min\n",
            "[Parallel(n_jobs=-1)]: Done  95 tasks      | elapsed:  9.9min\n",
            "[Parallel(n_jobs=-1)]: Done  96 tasks      | elapsed:  9.9min\n",
            "[Parallel(n_jobs=-1)]: Done  97 tasks      | elapsed: 10.1min\n",
            "[Parallel(n_jobs=-1)]: Done  98 tasks      | elapsed: 10.1min\n",
            "[Parallel(n_jobs=-1)]: Done  99 tasks      | elapsed: 10.2min\n",
            "[Parallel(n_jobs=-1)]: Done 100 tasks      | elapsed: 10.2min\n",
            "[Parallel(n_jobs=-1)]: Done 101 tasks      | elapsed: 10.5min\n",
            "[Parallel(n_jobs=-1)]: Done 102 tasks      | elapsed: 10.6min\n",
            "[Parallel(n_jobs=-1)]: Done 103 tasks      | elapsed: 10.7min\n",
            "[Parallel(n_jobs=-1)]: Done 104 tasks      | elapsed: 10.7min\n",
            "[Parallel(n_jobs=-1)]: Done 105 tasks      | elapsed: 11.0min\n",
            "[Parallel(n_jobs=-1)]: Done 106 tasks      | elapsed: 11.0min\n",
            "[Parallel(n_jobs=-1)]: Done 107 tasks      | elapsed: 11.1min\n",
            "[Parallel(n_jobs=-1)]: Done 108 tasks      | elapsed: 11.1min\n",
            "[Parallel(n_jobs=-1)]: Done 109 tasks      | elapsed: 11.4min\n",
            "[Parallel(n_jobs=-1)]: Done 110 tasks      | elapsed: 11.4min\n",
            "[Parallel(n_jobs=-1)]: Done 111 tasks      | elapsed: 11.5min\n",
            "[Parallel(n_jobs=-1)]: Done 112 tasks      | elapsed: 11.5min\n",
            "[Parallel(n_jobs=-1)]: Done 113 tasks      | elapsed: 11.8min\n",
            "[Parallel(n_jobs=-1)]: Done 116 out of 120 | elapsed: 12.0min remaining:   24.8s\n",
            "[Parallel(n_jobs=-1)]: Done 120 out of 120 | elapsed: 12.3min finished\n"
          ],
          "name": "stdout"
        }
      ]
    },
    {
      "cell_type": "code",
      "metadata": {
        "id": "pnm8YtMePYjh",
        "colab_type": "code",
        "colab": {
          "base_uri": "https://localhost:8080/",
          "height": 72
        },
        "outputId": "20969385-c1a5-4d37-e27c-e43769b01c51"
      },
      "source": [
        "print('Best Hyperparameters', search.best_params_)\n",
        "print('Cross-validation MAE', -search.best_score_)"
      ],
      "execution_count": 15,
      "outputs": [
        {
          "output_type": "stream",
          "text": [
            "Best Hyperparameters {'simpleimputer__strategy': 'mean', 'randomforestclassifier__n_estimators': 130, 'randomforestclassifier__min_samples_split': 5, 'randomforestclassifier__max_depth': 23}\n",
            "Cross-validation MAE -0.8090277777777779\n"
          ],
          "name": "stdout"
        }
      ]
    },
    {
      "cell_type": "code",
      "metadata": {
        "id": "nA6GnNWTT2Ie",
        "colab_type": "code",
        "colab": {
          "base_uri": "https://localhost:8080/",
          "height": 34
        },
        "outputId": "58f1abc4-ccdc-4108-9bf9-f57bdef96b18"
      },
      "source": [
        "2 * len(X_train.columns) * 3"
      ],
      "execution_count": 30,
      "outputs": [
        {
          "output_type": "execute_result",
          "data": {
            "text/plain": [
              "246"
            ]
          },
          "metadata": {
            "tags": []
          },
          "execution_count": 30
        }
      ]
    },
    {
      "cell_type": "code",
      "metadata": {
        "id": "CPeE9IBkUOxG",
        "colab_type": "code",
        "colab": {}
      },
      "source": [
        "pipeline = search.best_estimator_"
      ],
      "execution_count": 0,
      "outputs": []
    },
    {
      "cell_type": "code",
      "metadata": {
        "id": "iwDjwAdxUwGh",
        "colab_type": "code",
        "colab": {
          "base_uri": "https://localhost:8080/",
          "height": 34
        },
        "outputId": "b58fe318-5ddb-40c5-86d1-5659fbd0ba7c"
      },
      "source": [
        "pipeline = make_pipeline(\n",
        "    ce.OrdinalEncoder(),\n",
        "    SimpleImputer(strategy='mean'),\n",
        "    RandomForestClassifier(bootstrap=True, class_weight=None, criterion='gini',\n",
        "                       max_depth=23, max_features='auto', max_leaf_nodes=None,\n",
        "                       min_impurity_decrease=0.0, min_impurity_split=None,\n",
        "                       min_samples_leaf=1, min_samples_split=5,\n",
        "                       min_weight_fraction_leaf=0.0, n_estimators=130,\n",
        "                       n_jobs=-1, oob_score=True, random_state=42, verbose=0,\n",
        "                       warm_start=False)\n",
        ")\n",
        "\n",
        "pipeline.fit(X_train, y_train)\n",
        "print ('Validation Accuracy', pipeline.score(X_val, y_val))"
      ],
      "execution_count": 37,
      "outputs": [
        {
          "output_type": "stream",
          "text": [
            "Validation Accuracy 0.8132996632996633\n"
          ],
          "name": "stdout"
        }
      ]
    },
    {
      "cell_type": "code",
      "metadata": {
        "id": "Lg4KmopGU99A",
        "colab_type": "code",
        "colab": {}
      },
      "source": [
        "y_pred = pipeline.predict(X_test)"
      ],
      "execution_count": 0,
      "outputs": []
    },
    {
      "cell_type": "code",
      "metadata": {
        "id": "glemj7lYVJ0k",
        "colab_type": "code",
        "colab": {}
      },
      "source": [
        "Sample = pd.read_csv(DATA_PATH+'waterpumps/sample_submission.csv')\n",
        "Submission = Sample.copy()\n",
        "Submission['status_group'] = y_pred\n",
        "Submission.to_csv('Travis_Cain_DS14_2.csv', index=False)"
      ],
      "execution_count": 0,
      "outputs": []
    },
    {
      "cell_type": "code",
      "metadata": {
        "id": "ptR90dRvVMcz",
        "colab_type": "code",
        "colab": {}
      },
      "source": [
        "from google.colab import files\n",
        "files.download('Travis_Cain_DS14_2.csv')"
      ],
      "execution_count": 0,
      "outputs": []
    },
    {
      "cell_type": "code",
      "metadata": {
        "id": "uYOOT5UZWnRS",
        "colab_type": "code",
        "colab": {}
      },
      "source": [
        ""
      ],
      "execution_count": 0,
      "outputs": []
    }
  ]
}